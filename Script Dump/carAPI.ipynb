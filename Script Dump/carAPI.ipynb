{
 "cells": [
  {
   "cell_type": "code",
   "execution_count": 45,
   "metadata": {},
   "outputs": [],
   "source": [
    "import requests\n",
    "import pandas as pd\n"
   ]
  },
  {
   "cell_type": "code",
   "execution_count": 46,
   "metadata": {},
   "outputs": [],
   "source": [
    "API_Token = \"780ed9d1-727c-410f-b73e-2bed8b05c11a\"\n",
    "API_Secret = \"9bdf99f4de7a672d0768761df407ab60\""
   ]
  },
  {
   "cell_type": "code",
   "execution_count": 47,
   "metadata": {},
   "outputs": [],
   "source": [
    "BASE_URL = \"https://carapi.app/api\"\n",
    "\n",
    "def get_jwt_token():\n",
    "    login_url = f\"{BASE_URL}/auth/login\"\n",
    "    credentials = {\n",
    "        \"api_token\" : API_Token,\n",
    "        \"api_secret\" : API_Secret\n",
    "    }\n",
    "    response = requests.post(login_url,json=credentials)\n",
    "    response.raise_for_status()\n",
    "    return response.text\n",
    "\n",
    "jwt_token = get_jwt_token()"
   ]
  },
  {
   "cell_type": "code",
   "execution_count": 48,
   "metadata": {},
   "outputs": [
    {
     "name": "stdout",
     "output_type": "stream",
     "text": [
      "29195\n",
      "33795\n",
      "28795\n",
      "25295\n",
      "25795\n",
      "22395\n",
      "23395\n",
      "30795\n"
     ]
    }
   ],
   "source": [
    "def get_trim_ids_for_make_model(make, model, year):\n",
    "    url = f\"{BASE_URL}/trims\"\n",
    "    headers = {'Authorization': f'Bearer {jwt_token}'}\n",
    "    params = {'make': make, 'model': model, 'year': year}\n",
    "    \n",
    "    response = requests.get(url, headers=headers, params=params)\n",
    "    response.raise_for_status()\n",
    "\n",
    "    data = response.json()\n",
    "\n",
    "    trim_ids = [trim['id'] for trim in data['data']]  # Adjusted to access the 'trims' key\n",
    "\n",
    "    return trim_ids\n",
    "\n",
    "\n",
    "def get_trim_details(trim_id):\n",
    "    url = f\"{BASE_URL}/trims/{trim_id}\"\n",
    "    headers = {'Authorization': f'Bearer {jwt_token}'}\n",
    "    \n",
    "    response = requests.get(url, headers=headers)\n",
    "    response.raise_for_status()\n",
    "\n",
    "    return response.json()\n",
    "\n",
    "testcar = get_trim_ids_for_make_model(\"Subaru\", \"Forester\", 2016)\n",
    "\n",
    "for car in testcar:\n",
    "    \n",
    "    print(get_trim_details(car)['msrp'])"
   ]
  },
  {
   "cell_type": "code",
   "execution_count": 99,
   "metadata": {},
   "outputs": [
    {
     "name": "stdout",
     "output_type": "stream",
     "text": [
      "3294  matches found\n"
     ]
    }
   ],
   "source": [
    "df = pd.read_csv(\"merged_dataset.csv\")\n",
    "\n",
    "df[\"model_make_id\"] = pd.NA #\n",
    "df[\"model_name\"] = pd.NA #\n",
    "df[\"model_trim\"] = pd.NA #\n",
    "df[\"model_year\"] = pd.NA #\n",
    "df[\"model_body\"] = pd.NA #\n",
    "df[\"model_engine_cyl\"] = pd.NA #\n",
    "df[\"model_engine_fuel\"] = pd.NA #\n",
    "df[\"model_drive\"] = pd.NA #\n",
    "df[\"model_transmission_type\"] = pd.NA #\n",
    "df[\"model_seats\"] = pd.NA #\n",
    "df[\"model_weight_kg\"] = pd.NA #\n",
    "df[\"model_fuel_cap_l\"] = pd.NA #\n",
    "\n",
    "for index, row in df.iterrows():\n",
    "    if index < 4487:\n",
    "        df.at[index, 'reg_date'] = row['reg_date'][:-2] + '20' + row['reg_date'][-2 :]\n",
    "\n",
    "    else:\n",
    "        df.at[index, 'reg_date'] = row['reg_date'][:11]\n",
    "\n",
    "\n",
    "\n",
    "count = 0\n",
    "for index, row in df.iterrows():\n",
    "    car_name = row['model']\n",
    "    if type(row['reg_date']) != float:\n",
    "        car_year = row['reg_date'][-4:]\n",
    "    words = car_name.split()\n",
    "    if len(words) > 1:\n",
    "        car_brand = words[0]\n",
    "        car_model = words[1]\n",
    "        car_ids = get_trim_ids_for_make_model(car_brand , car_model, car_year)\n",
    "        if car_ids:\n",
    "            car_details = get_trim_details(car_ids[0])\n",
    "            if car_details['make_model_id'] and car_details['make_model']['name'] and car_details['id'] and car_details['year'] and car_details['make_model_trim_body']['type'] and car_details['make_model_trim_body']['seats'] and car_details['make_model_trim_body']['curb_weight'] and car_details['make_model_trim_engine']['fuel_type'] and car_details['make_model_trim_engine']['cylinders'] and car_details['make_model_trim_engine']['drive_type'] and car_details['make_model_trim_engine']['transmission'] and car_details['make_model_trim_mileage']['fuel_tank_capacity']:\n",
    "                count += 1\n",
    "                df.at[index, 'model_make_id'] = car_details['make_model_id']\n",
    "                df.at[index, 'model_name'] = car_details['make_model']['name']\n",
    "                df.at[index, 'model_trim'] = car_details['id']\n",
    "                df.at[index, 'model_year'] = car_details['year']\n",
    "                df.at[index, 'model_body'] = car_details['make_model_trim_body']['type']\n",
    "                df.at[index, 'model_seats'] = car_details['make_model_trim_body']['seats']\n",
    "                df.at[index, 'model_weight_kg'] = car_details['make_model_trim_body']['curb_weight'] / 2.205\n",
    "                df.at[index, 'model_engine_fuel'] = car_details['make_model_trim_engine']['fuel_type']\n",
    "                df.at[index, 'model_engine_cyl'] = car_details['make_model_trim_engine']['cylinders']\n",
    "                df.at[index, 'model_drive'] = car_details['make_model_trim_engine']['drive_type']\n",
    "                df.at[index, 'model_transmission_type'] = car_details['make_model_trim_engine']['transmission']\n",
    "                df.at[index, 'model_fuel_cap_l'] = float(car_details['make_model_trim_mileage']['fuel_tank_capacity']) * 3.785\n",
    "\n",
    "  \n",
    "print(count, \" matches found\")\n",
    "    \n",
    "    \n",
    "    \n",
    "    \n"
   ]
  },
  {
   "cell_type": "code",
   "execution_count": 100,
   "metadata": {},
   "outputs": [],
   "source": [
    "df.to_csv('test_results.csv', index=False)"
   ]
  },
  {
   "cell_type": "code",
   "execution_count": 105,
   "metadata": {},
   "outputs": [
    {
     "name": "stdout",
     "output_type": "stream",
     "text": [
      "2137\n"
     ]
    }
   ],
   "source": [
    "count = 0\n",
    "for index, row in df.iterrows():\n",
    "    if pd.notna(row['model_body']):\n",
    "        if 'hidden' not in row['model_body']:\n",
    "            count += 1\n",
    "print(count)"
   ]
  },
  {
   "cell_type": "code",
   "execution_count": null,
   "metadata": {},
   "outputs": [],
   "source": []
  }
 ],
 "metadata": {
  "kernelspec": {
   "display_name": "Python 3.10.6 64-bit",
   "language": "python",
   "name": "python3"
  },
  "language_info": {
   "codemirror_mode": {
    "name": "ipython",
    "version": 3
   },
   "file_extension": ".py",
   "mimetype": "text/x-python",
   "name": "python",
   "nbconvert_exporter": "python",
   "pygments_lexer": "ipython3",
   "version": "3.10.6"
  },
  "orig_nbformat": 4,
  "vscode": {
   "interpreter": {
    "hash": "aee8b7b246df8f9039afb4144a1f6fd8d2ca17a180786b69acc140d282b71a49"
   }
  }
 },
 "nbformat": 4,
 "nbformat_minor": 2
}

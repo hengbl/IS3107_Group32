{
 "cells": [
  {
   "cell_type": "code",
   "execution_count": null,
   "metadata": {},
   "outputs": [],
   "source": []
  },
  {
   "cell_type": "code",
   "execution_count": 7,
   "metadata": {},
   "outputs": [
    {
     "name": "stdout",
     "output_type": "stream",
     "text": [
      "(datetime.date(2024, 5, 1), 2)\n"
     ]
    }
   ],
   "source": [
    "import datetime\n",
    "\n",
    "def find_wednesdays(year, month):\n",
    "    \"\"\"Returns the 1st, 2nd, and 3rd Wednesdays of the specified month and year.\"\"\"\n",
    "    wednesdays = []\n",
    "    # Start from the first of the month\n",
    "    date = datetime.date(year, month, 1)\n",
    "    # Increment the date until the first Wednesday\n",
    "    while date.weekday() != 2:  # 2 represents Wednesday\n",
    "        date += datetime.timedelta(days=1)\n",
    "    # Collect the first three Wednesdays\n",
    "    for _ in range(3):\n",
    "        wednesdays.append(date)\n",
    "        date += datetime.timedelta(days=7)  # Move to the next Wednesday\n",
    "    return wednesdays\n",
    "\n",
    "def check_date_position_and_bidding_no(input_date):\n",
    "    \"\"\"Check the position of the date relative to the first three Wednesdays of its month.\"\"\"\n",
    "    first_wednesday, second_wednesday, third_wednesday = find_wednesdays(input_date.year, input_date.month)\n",
    "    \n",
    "    if input_date < first_wednesday:\n",
    "        if input_date.month == 1:\n",
    "            return datetime.date(input_date.year - 1, 12, 1), 2\n",
    "        else:\n",
    "            return datetime.date(input_date.year, input_date.month - 1, 1), 2\n",
    "    elif first_wednesday <= input_date < third_wednesday:\n",
    "        return datetime.date(input_date.year, input_date.month, 1), 1\n",
    "    else:\n",
    "        return datetime.date(input_date.year, input_date.month, 1), 2\n",
    "\n",
    "# Example usage\n",
    "date_to_check = datetime.date(2024, 6, 1)  # Example date\n",
    "result = check_date_position_and_bidding_no(date_to_check)\n",
    "print(result)\n"
   ]
  }
 ],
 "metadata": {
  "kernelspec": {
   "display_name": "Python 3",
   "language": "python",
   "name": "python3"
  },
  "language_info": {
   "codemirror_mode": {
    "name": "ipython",
    "version": 3
   },
   "file_extension": ".py",
   "mimetype": "text/x-python",
   "name": "python",
   "nbconvert_exporter": "python",
   "pygments_lexer": "ipython3",
   "version": "3.11.7"
  }
 },
 "nbformat": 4,
 "nbformat_minor": 2
}

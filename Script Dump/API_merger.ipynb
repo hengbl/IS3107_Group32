{
 "cells": [
  {
   "cell_type": "code",
   "execution_count": 1,
   "metadata": {},
   "outputs": [],
   "source": [
    "import pandas as pd"
   ]
  },
  {
   "cell_type": "code",
   "execution_count": 2,
   "metadata": {},
   "outputs": [],
   "source": [
    "carapi_df = pd.read_csv(\"../Datasets/carAPI_combined.csv\")\n",
    "carquery_df = pd.read_csv(\"../Datasets/CarQuery.csv\")"
   ]
  },
  {
   "cell_type": "code",
   "execution_count": 11,
   "metadata": {},
   "outputs": [
    {
     "name": "stderr",
     "output_type": "stream",
     "text": [
      "C:\\Users\\tansi\\AppData\\Local\\Temp\\ipykernel_13092\\344347582.py:27: FutureWarning: Setting an item of incompatible dtype is deprecated and will raise in a future error of pandas. Value 'volkswagen' has dtype incompatible with float64, please explicitly cast to a compatible dtype first.\n",
      "  combined_df.at[i, col] = carquery_cell\n",
      "C:\\Users\\tansi\\AppData\\Local\\Temp\\ipykernel_13092\\344347582.py:27: FutureWarning: Setting an item of incompatible dtype is deprecated and will raise in a future error of pandas. Value '1.4 Supercharged' has dtype incompatible with float64, please explicitly cast to a compatible dtype first.\n",
      "  combined_df.at[i, col] = carquery_cell\n"
     ]
    }
   ],
   "source": [
    "additional_columns = carapi_df.columns[-12:]\n",
    "\n",
    "# Initialize the combined DataFrame with carAPI data\n",
    "combined_df = carapi_df.copy()\n",
    "\n",
    "def is_hidden(cell):\n",
    "    return isinstance(cell, str) and ('hidden' in cell or '*' in cell)\n",
    "\n",
    "# List to keep track of rows to remove\n",
    "rows_to_remove = []\n",
    "\n",
    "# Iterate over the rows\n",
    "for i in range(len(combined_df)):\n",
    "    remove_row = False\n",
    "    # Iterate over each of the additional columns\n",
    "    for col in additional_columns:\n",
    "        carapi_cell = combined_df.at[i, col]\n",
    "        carquery_cell = carquery_df.at[i, col]\n",
    "\n",
    "        # Check if the carAPI data is hidden or empty\n",
    "        if is_hidden(carapi_cell) or pd.isna(carapi_cell):\n",
    "            # If carQuery data is also not usable, mark the row for removal\n",
    "            if is_hidden(carquery_cell) or pd.isna(carquery_cell):\n",
    "                remove_row = True\n",
    "            else:\n",
    "                # Replace with carQuery data if it's usable\n",
    "                combined_df.at[i, col] = carquery_cell\n",
    "\n",
    "    # Add the index to the list if the row is to be removed\n",
    "    if remove_row:\n",
    "        rows_to_remove.append(i)\n",
    "\n",
    "# Remove the rows where necessary\n",
    "combined_df = combined_df.drop(rows_to_remove)\n",
    "\n",
    "# Save the final combined DataFrame\n",
    "combined_df.to_csv('../Datasets/final_combined_dataset.csv', index=False)"
   ]
  }
 ],
 "metadata": {
  "kernelspec": {
   "display_name": "Python 3",
   "language": "python",
   "name": "python3"
  },
  "language_info": {
   "codemirror_mode": {
    "name": "ipython",
    "version": 3
   },
   "file_extension": ".py",
   "mimetype": "text/x-python",
   "name": "python",
   "nbconvert_exporter": "python",
   "pygments_lexer": "ipython3",
   "version": "3.11.7"
  }
 },
 "nbformat": 4,
 "nbformat_minor": 2
}
